{
  "nbformat": 4,
  "nbformat_minor": 0,
  "metadata": {
    "colab": {
      "provenance": [],
      "authorship_tag": "ABX9TyMoXwkGwKKGs1x5Pj64d+8i",
      "include_colab_link": true
    },
    "kernelspec": {
      "name": "python3",
      "display_name": "Python 3"
    },
    "language_info": {
      "name": "python"
    }
  },
  "cells": [
    {
      "cell_type": "markdown",
      "metadata": {
        "id": "view-in-github",
        "colab_type": "text"
      },
      "source": [
        "<a href=\"https://colab.research.google.com/github/nishant-out/Covid_Detection_Using_DeepLearning/blob/main/covid.ipynb\" target=\"_parent\"><img src=\"https://colab.research.google.com/assets/colab-badge.svg\" alt=\"Open In Colab\"/></a>"
      ]
    },
    {
      "cell_type": "code",
      "execution_count": null,
      "metadata": {
        "id": "yVqdrFAFW7E0"
      },
      "outputs": [],
      "source": [
        "import numpy as np\n",
        "import matplotlib.pyplot as plt\n",
        "\n",
        "import keras\n",
        "from keras.layers import Dense, Conv2D, MaxPool2D, Dropout, Flatten\n",
        "from keras.models import Sequential\n",
        "from keras.preprocessing import image\n",
        "import tensorflow as tf\n"
      ]
    },
    {
      "cell_type": "markdown",
      "source": [
        "#Loading Data"
      ],
      "metadata": {
        "id": "JmMBwKN6rP1_"
      }
    },
    {
      "cell_type": "code",
      "source": [
        "# DataGenerators for image augmentation\n",
        "train_datagen = image.ImageDataGenerator(\n",
        "    rescale = 1/255, \n",
        "    horizontal_flip= True, zoom_range= 0.2, shear_range = 0.2\n",
        ")\n",
        "train_data = train_datagen.flow_from_directory(directory='/content/covid/train', \n",
        "                                               target_size=(256, 256), \n",
        "                                               batch_size=16,\n",
        "                                               class_mode='binary')"
      ],
      "metadata": {
        "colab": {
          "base_uri": "https://localhost:8080/"
        },
        "id": "I6VQPVtAoGPz",
        "outputId": "a2457efd-381e-4389-8576-2a1b1fc9c3e2"
      },
      "execution_count": null,
      "outputs": [
        {
          "output_type": "stream",
          "name": "stdout",
          "text": [
            "Found 288 images belonging to 2 classes.\n"
          ]
        }
      ]
    },
    {
      "cell_type": "code",
      "source": [
        "train_data.class_indices"
      ],
      "metadata": {
        "colab": {
          "base_uri": "https://localhost:8080/"
        },
        "id": "sdadJQ_kqLJA",
        "outputId": "6a750d3a-ccfe-4910-9817-8fc8f9a17402"
      },
      "execution_count": null,
      "outputs": [
        {
          "output_type": "execute_result",
          "data": {
            "text/plain": [
              "{'covid': 0, 'normal': 1}"
            ]
          },
          "metadata": {},
          "execution_count": 119
        }
      ]
    },
    {
      "cell_type": "code",
      "source": [
        "test_datagen = image.ImageDataGenerator(\n",
        "    rescale = 1/255\n",
        ")\n",
        "test_data = test_datagen.flow_from_directory(directory='/content/covid/val', \n",
        "                                               target_size=(256, 256), \n",
        "                                               batch_size=16,\n",
        "                                               class_mode='binary')"
      ],
      "metadata": {
        "colab": {
          "base_uri": "https://localhost:8080/"
        },
        "id": "RsoEc9MOqvME",
        "outputId": "1aa53eff-e40a-46ac-af77-1f2b06c297c2"
      },
      "execution_count": null,
      "outputs": [
        {
          "output_type": "stream",
          "name": "stdout",
          "text": [
            "Found 60 images belonging to 2 classes.\n"
          ]
        }
      ]
    },
    {
      "cell_type": "markdown",
      "source": [
        "#CNN Model"
      ],
      "metadata": {
        "id": "b0yFNSLCrWZe"
      }
    },
    {
      "cell_type": "code",
      "source": [
        "model = Sequential()\n",
        "\n",
        "model.add(Conv2D(filters= 32, kernel_size=(3,3), activation='relu', input_shape= (256,256,3)))\n",
        "\n",
        "model.add(Conv2D(filters= 64, kernel_size=(3,3), activation='relu'))\n",
        "model.add(MaxPool2D())\n",
        "model.add(Dropout(rate= 0.25))\n",
        "\n",
        "\n",
        "model.add(Conv2D(filters= 64, kernel_size=(3,3), activation='relu'))\n",
        "model.add(MaxPool2D())\n",
        "model.add(Dropout(rate= 0.25))\n",
        "\n",
        "\n",
        "model.add(Conv2D(filters= 128, kernel_size=(3,3), activation='relu'))\n",
        "model.add(MaxPool2D())\n",
        "model.add(Dropout(rate= 0.25))\n",
        "\n",
        "model.add(Flatten())\n",
        "model.add(Dense(units= 64, activation= 'relu'))\n",
        "model.add(Dropout(rate=0.5))  # For avoiding overfitting\n",
        "model.add(Dense(units= 1, activation= 'sigmoid'))\n",
        "\n",
        "model.compile(loss= 'binary_crossentropy', optimizer='adam', metrics=['accuracy'])\n"
      ],
      "metadata": {
        "id": "olvMcY_SrbfY"
      },
      "execution_count": null,
      "outputs": []
    },
    {
      "cell_type": "code",
      "source": [
        "model.summary()"
      ],
      "metadata": {
        "colab": {
          "base_uri": "https://localhost:8080/"
        },
        "id": "5o_vDlu8ubNg",
        "outputId": "50efeec1-0d19-4466-9787-830ed33578b8"
      },
      "execution_count": null,
      "outputs": [
        {
          "output_type": "stream",
          "name": "stdout",
          "text": [
            "Model: \"sequential_9\"\n",
            "_________________________________________________________________\n",
            " Layer (type)                Output Shape              Param #   \n",
            "=================================================================\n",
            " conv2d_32 (Conv2D)          (None, 254, 254, 32)      896       \n",
            "                                                                 \n",
            " conv2d_33 (Conv2D)          (None, 252, 252, 64)      18496     \n",
            "                                                                 \n",
            " max_pooling2d_24 (MaxPoolin  (None, 126, 126, 64)     0         \n",
            " g2D)                                                            \n",
            "                                                                 \n",
            " dropout_32 (Dropout)        (None, 126, 126, 64)      0         \n",
            "                                                                 \n",
            " conv2d_34 (Conv2D)          (None, 124, 124, 64)      36928     \n",
            "                                                                 \n",
            " max_pooling2d_25 (MaxPoolin  (None, 62, 62, 64)       0         \n",
            " g2D)                                                            \n",
            "                                                                 \n",
            " dropout_33 (Dropout)        (None, 62, 62, 64)        0         \n",
            "                                                                 \n",
            " conv2d_35 (Conv2D)          (None, 60, 60, 128)       73856     \n",
            "                                                                 \n",
            " max_pooling2d_26 (MaxPoolin  (None, 30, 30, 128)      0         \n",
            " g2D)                                                            \n",
            "                                                                 \n",
            " dropout_34 (Dropout)        (None, 30, 30, 128)       0         \n",
            "                                                                 \n",
            " flatten_8 (Flatten)         (None, 115200)            0         \n",
            "                                                                 \n",
            " dense_16 (Dense)            (None, 64)                7372864   \n",
            "                                                                 \n",
            " dropout_35 (Dropout)        (None, 64)                0         \n",
            "                                                                 \n",
            " dense_17 (Dense)            (None, 1)                 65        \n",
            "                                                                 \n",
            "=================================================================\n",
            "Total params: 7,503,105\n",
            "Trainable params: 7,503,105\n",
            "Non-trainable params: 0\n",
            "_________________________________________________________________\n"
          ]
        }
      ]
    },
    {
      "cell_type": "code",
      "source": [
        "model.fit_generator(train_data, steps_per_epoch= 8, epochs= 12, \n",
        "                    validation_steps=2,\n",
        "                    validation_data= test_data\n",
        "          )\n"
      ],
      "metadata": {
        "colab": {
          "base_uri": "https://localhost:8080/"
        },
        "id": "p5retNzSxQvY",
        "outputId": "61a83734-6acb-4511-ff28-7dcc438c3a19"
      },
      "execution_count": null,
      "outputs": [
        {
          "output_type": "stream",
          "name": "stderr",
          "text": [
            "<ipython-input-123-b0f10ecde231>:1: UserWarning: `Model.fit_generator` is deprecated and will be removed in a future version. Please use `Model.fit`, which supports generators.\n",
            "  model.fit_generator(train_data, steps_per_epoch= 8, epochs= 12,\n"
          ]
        },
        {
          "output_type": "stream",
          "name": "stdout",
          "text": [
            "Epoch 1/12\n",
            "8/8 [==============================] - 34s 4s/step - loss: 2.2252 - accuracy: 0.4766 - val_loss: 0.6933 - val_accuracy: 0.4688\n",
            "Epoch 2/12\n",
            "8/8 [==============================] - 34s 4s/step - loss: 0.6854 - accuracy: 0.5312 - val_loss: 0.6852 - val_accuracy: 0.5312\n",
            "Epoch 3/12\n",
            "8/8 [==============================] - 33s 4s/step - loss: 0.5816 - accuracy: 0.7500 - val_loss: 0.3883 - val_accuracy: 0.9375\n",
            "Epoch 4/12\n",
            "8/8 [==============================] - 33s 4s/step - loss: 0.3943 - accuracy: 0.8281 - val_loss: 0.3250 - val_accuracy: 0.8750\n",
            "Epoch 5/12\n",
            "8/8 [==============================] - 33s 4s/step - loss: 0.3584 - accuracy: 0.8828 - val_loss: 0.1179 - val_accuracy: 0.9688\n",
            "Epoch 6/12\n",
            "8/8 [==============================] - 33s 4s/step - loss: 0.2821 - accuracy: 0.8828 - val_loss: 0.2109 - val_accuracy: 0.9062\n",
            "Epoch 7/12\n",
            "8/8 [==============================] - 33s 4s/step - loss: 0.3489 - accuracy: 0.8750 - val_loss: 0.2099 - val_accuracy: 0.9375\n",
            "Epoch 8/12\n",
            "8/8 [==============================] - 33s 4s/step - loss: 0.2083 - accuracy: 0.9219 - val_loss: 0.1206 - val_accuracy: 0.9375\n",
            "Epoch 9/12\n",
            "8/8 [==============================] - 34s 4s/step - loss: 0.2240 - accuracy: 0.9531 - val_loss: 0.1207 - val_accuracy: 1.0000\n",
            "Epoch 10/12\n",
            "8/8 [==============================] - 33s 4s/step - loss: 0.1929 - accuracy: 0.9453 - val_loss: 0.0830 - val_accuracy: 0.9688\n",
            "Epoch 11/12\n",
            "8/8 [==============================] - 33s 4s/step - loss: 0.2191 - accuracy: 0.9297 - val_loss: 0.0944 - val_accuracy: 0.9688\n",
            "Epoch 12/12\n",
            "8/8 [==============================] - 33s 4s/step - loss: 0.2465 - accuracy: 0.9297 - val_loss: 0.1622 - val_accuracy: 0.9375\n"
          ]
        },
        {
          "output_type": "execute_result",
          "data": {
            "text/plain": [
              "<keras.callbacks.History at 0x7f6b136d2ac0>"
            ]
          },
          "metadata": {},
          "execution_count": 123
        }
      ]
    },
    {
      "cell_type": "code",
      "source": [
        "path = \"/content/covid/predict/SARS-10.1148rg.242035193-g04mr34g0-Fig8c-day10.jpeg\"\n",
        "\n",
        "img = tf.keras.preprocessing.image.load_img(path, target_size=(256,256,3))\n",
        "img = tf.keras.preprocessing.image.img_to_array(img)/255\n",
        "\n",
        "plt.imshow(img)\n",
        "img = np.array([img])  # Convert single image to a batch.\n",
        "\n",
        "img.shape"
      ],
      "metadata": {
        "colab": {
          "base_uri": "https://localhost:8080/",
          "height": 286
        },
        "id": "QQgZ1UOH96OO",
        "outputId": "00cf37fb-d00c-4e67-eba5-6df48fa5a580"
      },
      "execution_count": null,
      "outputs": [
        {
          "output_type": "execute_result",
          "data": {
            "text/plain": [
              "(1, 256, 256, 3)"
            ]
          },
          "metadata": {},
          "execution_count": 126
        },
        {
          "output_type": "display_data",
          "data": {
            "text/plain": [
              "<Figure size 432x288 with 1 Axes>"
            ],
            "image/png": "[encoded data removed]"
          },
          "metadata": {
            "needs_background": "light"
          }
        }
      ]
    },
    {
      "cell_type": "markdown",
      "source": [],
      "metadata": {
        "id": "t0soq3_8_x0Z"
      }
    },
    {
      "cell_type": "code",
      "source": [
        "# model.predict_classes(img)\n",
        "\n",
        "(model.predict(img) > 0.5).astype(\"int32\")\n",
        "\n",
        "# predict_x=model.predict(img)\n",
        "# np.argmax(predict_x,axis=1)\n",
        "\n",
        "# train_data.class_indices"
      ],
      "metadata": {
        "colab": {
          "base_uri": "https://localhost:8080/"
        },
        "id": "RjZugwcK_2O1",
        "outputId": "fee91df4-1b22-4adc-ce82-e01096455a3a"
      },
      "execution_count": null,
      "outputs": [
        {
          "output_type": "stream",
          "name": "stdout",
          "text": [
            "1/1 [==============================] - 0s 74ms/step\n"
          ]
        },
        {
          "output_type": "execute_result",
          "data": {
            "text/plain": [
              "array([[0]], dtype=int32)"
            ]
          },
          "metadata": {},
          "execution_count": 127
        }
      ]
    }
  ]
}